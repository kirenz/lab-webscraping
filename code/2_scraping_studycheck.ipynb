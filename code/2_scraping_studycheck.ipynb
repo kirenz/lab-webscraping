{
 "cells": [
  {
   "cell_type": "markdown",
   "metadata": {
    "slideshow": {
     "slide_type": "fragment"
    }
   },
   "source": [
    "# Scraping Studycheck"
   ]
  },
  {
   "cell_type": "markdown",
   "metadata": {
    "slideshow": {
     "slide_type": "slide"
    }
   },
   "source": [
    "## Setup\n",
    "\n",
    "Create virtual environment (once)\n",
    "\n",
    "```sh\n",
    "conda create -n sentiment python=3.11 pip\n",
    "```\n",
    "\n",
    "Activate environment\n",
    "\n",
    "```sh\n",
    "conda activate sentiment\n",
    "```\n",
    "\n",
    "Install modules (once)\n",
    "\n",
    "```sh\n",
    "pip install jupyter ipykernel pandas selenium webdriver-manager beautifulsoup4 nltk spacy wordcloud matplotlib altair\n",
    "```\n",
    "\n",
    "Import modules (always)"
   ]
  },
  {
   "cell_type": "code",
   "execution_count": null,
   "metadata": {},
   "outputs": [],
   "source": [
    "import time\n",
    "import pandas as pd\n",
    "from selenium import webdriver\n",
    "from selenium.webdriver.common.by import By\n",
    "from selenium.webdriver.chrome.service import Service\n",
    "from webdriver_manager.chrome import ChromeDriverManager\n",
    "from bs4 import BeautifulSoup"
   ]
  },
  {
   "cell_type": "markdown",
   "metadata": {},
   "source": [
    "## Scraping"
   ]
  },
  {
   "cell_type": "code",
   "execution_count": null,
   "metadata": {},
   "outputs": [],
   "source": [
    "def get_page_reviews(driver, page_url):\n",
    "    \"\"\"Fetches reviews from a single page using Selenium.\"\"\"\n",
    "    driver.get(page_url)\n",
    "    time.sleep(5)  # Wait for the page to load and for any pop-ups to appear\n",
    "\n",
    "    # Close the cookie consent pop-up if it appears\n",
    "    try:\n",
    "        consent_button = driver.find_element(By.XPATH, '//button[text()=\"Alles akzeptieren\"]')\n",
    "        consent_button.click()\n",
    "    except Exception as e:\n",
    "        print(f\"No cookie consent pop-up found: {e}\")\n",
    "\n",
    "    # Extract the page source and parse with BeautifulSoup\n",
    "    page_source = driver.page_source\n",
    "    soup = BeautifulSoup(page_source, 'html.parser')\n",
    "    review_elements = soup.select('.item-text')\n",
    "\n",
    "    reviews = [review.get_text(strip=True) for review in review_elements]\n",
    "    return reviews\n"
   ]
  },
  {
   "cell_type": "code",
   "execution_count": null,
   "metadata": {},
   "outputs": [],
   "source": [
    "def scrape_studycheck(base_url, total_pages):\n",
    "    \"\"\"Scrapes reviews from StudyCheck across multiple pages using Selenium.\"\"\"\n",
    "    all_reviews = []\n",
    "\n",
    "    # Setup Selenium WebDriver\n",
    "    service = Service(ChromeDriverManager().install())\n",
    "    driver = webdriver.Chrome(service=service)\n",
    "\n",
    "    for page_num in range(1, total_pages + 1):\n",
    "        page_url = f\"{base_url}/seite-{page_num}\"\n",
    "        print(f\"Scraping page {page_num}...\")\n",
    "        reviews = get_page_reviews(driver, page_url)\n",
    "        all_reviews.extend(reviews)\n",
    "        time.sleep(2)  # Polite delay to avoid overloading the server\n",
    "\n",
    "    driver.quit()\n",
    "    return all_reviews\n"
   ]
  },
  {
   "cell_type": "code",
   "execution_count": null,
   "metadata": {},
   "outputs": [],
   "source": [
    "\n",
    "# Define the base URLs and total pages for each study program\n",
    "study_programs = [\n",
    "    {\n",
    "        \"name\": \"Medienmanagement Mittweida\",\n",
    "        \"base_url\": \"https://www.studycheck.de/studium/medienmanagement/hs-mittweida-429/bewertungen\",\n",
    "        \"total_pages\": 60\n",
    "    },\n",
    "    {\n",
    "        \"name\": \"Online Medien Management HdM\",\n",
    "        \"base_url\": \"https://www.studycheck.de/studium/medienmanagement/hdm-stuttgart-15774/bewertungen\",\n",
    "        \"total_pages\": 30\n",
    "    },\n",
    "\n",
    "    {\n",
    "        \"name\": \"Medien und Kommunikationsmanagement Macromedia Hochschule\",\n",
    "        \"base_url\": \"https://www.studycheck.de/studium/medienmanagement/hs-macromedia-14035/bewertungen\",\n",
    "        \"total_pages\": 97\n",
    "    }\n",
    "\n",
    "    ,\n",
    "    {\n",
    "        \"name\": \"Digital und Medienwirtschaft HdM\",\n",
    "        \"base_url\": \"https://www.studycheck.de/studium/medienwirtschaft/hdm-stuttgart-16089/bewertungen\",\n",
    "        \"total_pages\": 60\n",
    "    }\n",
    "]\n"
   ]
  },
  {
   "cell_type": "markdown",
   "metadata": {},
   "source": [
    "This script may take while to finish"
   ]
  },
  {
   "cell_type": "code",
   "execution_count": null,
   "metadata": {},
   "outputs": [],
   "source": [
    "\n",
    "# Scrape reviews for each study program and save to separate CSV files\n",
    "for program in study_programs:\n",
    "    print(f\"Scraping reviews for {program['name']}...\")\n",
    "    reviews = scrape_studycheck(program[\"base_url\"], program[\"total_pages\"])\n",
    "    df = pd.DataFrame(reviews, columns=['Review'])\n",
    "    csv_filename = f\"{program['name'].replace(' ', '_').lower()}_reviews.csv\"\n",
    "    df.to_csv(csv_filename, index=False)\n",
    "    print(f\"Scraping completed and saved to {csv_filename}\")\n"
   ]
  }
 ],
 "metadata": {
  "kernelspec": {
   "display_name": "Python 3.9.13 ('webscraping')",
   "language": "python",
   "name": "python3"
  },
  "language_info": {
   "codemirror_mode": {
    "name": "ipython",
    "version": 3
   },
   "file_extension": ".py",
   "mimetype": "text/x-python",
   "name": "python",
   "nbconvert_exporter": "python",
   "pygments_lexer": "ipython3",
   "version": "3.11.9"
  },
  "vscode": {
   "interpreter": {
    "hash": "147de23312147813b0623f895fe208f672aacb131d01c672b840a7a22f97849e"
   }
  }
 },
 "nbformat": 4,
 "nbformat_minor": 2
}
